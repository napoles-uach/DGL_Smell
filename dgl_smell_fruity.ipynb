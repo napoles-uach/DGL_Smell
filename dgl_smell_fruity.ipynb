{
  "nbformat": 4,
  "nbformat_minor": 0,
  "metadata": {
    "colab": {
      "name": "dgl_smell_fruity.ipynb",
      "provenance": [],
      "collapsed_sections": [],
      "authorship_tag": "ABX9TyMLG+jUhW+n4YoL9rP4nBT1",
      "include_colab_link": true
    },
    "kernelspec": {
      "name": "python3",
      "display_name": "Python 3"
    },
    "language_info": {
      "name": "python"
    }
  },
  "cells": [
    {
      "cell_type": "markdown",
      "metadata": {
        "id": "view-in-github",
        "colab_type": "text"
      },
      "source": [
        "<a href=\"https://colab.research.google.com/github/napoles-uach/DGL_Smell/blob/main/dgl_smell_fruity.ipynb\" target=\"_parent\"><img src=\"https://colab.research.google.com/assets/colab-badge.svg\" alt=\"Open In Colab\"/></a>"
      ]
    },
    {
      "cell_type": "code",
      "metadata": {
        "colab": {
          "base_uri": "https://localhost:8080/"
        },
        "id": "Fh1FE0lhE9hh",
        "outputId": "27aa0861-4160-4c35-f816-18729b4d5834"
      },
      "source": [
        "pip install dgl"
      ],
      "execution_count": 1,
      "outputs": [
        {
          "output_type": "stream",
          "text": [
            "Collecting dgl\n",
            "  Downloading dgl-0.6.1-cp37-cp37m-manylinux1_x86_64.whl (4.4 MB)\n",
            "\u001b[K     |████████████████████████████████| 4.4 MB 4.5 MB/s \n",
            "\u001b[?25hRequirement already satisfied: networkx>=2.1 in /usr/local/lib/python3.7/dist-packages (from dgl) (2.5.1)\n",
            "Requirement already satisfied: numpy>=1.14.0 in /usr/local/lib/python3.7/dist-packages (from dgl) (1.19.5)\n",
            "Requirement already satisfied: requests>=2.19.0 in /usr/local/lib/python3.7/dist-packages (from dgl) (2.23.0)\n",
            "Requirement already satisfied: scipy>=1.1.0 in /usr/local/lib/python3.7/dist-packages (from dgl) (1.4.1)\n",
            "Requirement already satisfied: decorator<5,>=4.3 in /usr/local/lib/python3.7/dist-packages (from networkx>=2.1->dgl) (4.4.2)\n",
            "Requirement already satisfied: certifi>=2017.4.17 in /usr/local/lib/python3.7/dist-packages (from requests>=2.19.0->dgl) (2021.5.30)\n",
            "Requirement already satisfied: chardet<4,>=3.0.2 in /usr/local/lib/python3.7/dist-packages (from requests>=2.19.0->dgl) (3.0.4)\n",
            "Requirement already satisfied: urllib3!=1.25.0,!=1.25.1,<1.26,>=1.21.1 in /usr/local/lib/python3.7/dist-packages (from requests>=2.19.0->dgl) (1.24.3)\n",
            "Requirement already satisfied: idna<3,>=2.5 in /usr/local/lib/python3.7/dist-packages (from requests>=2.19.0->dgl) (2.10)\n",
            "Installing collected packages: dgl\n",
            "Successfully installed dgl-0.6.1\n"
          ],
          "name": "stdout"
        }
      ]
    },
    {
      "cell_type": "code",
      "metadata": {
        "colab": {
          "base_uri": "https://localhost:8080/"
        },
        "id": "y62N92-cFWFw",
        "outputId": "fa84e904-ae09-41de-96a7-e8f0e7a730bb"
      },
      "source": [
        "pip install ogb"
      ],
      "execution_count": 2,
      "outputs": [
        {
          "output_type": "stream",
          "text": [
            "Collecting ogb\n",
            "  Downloading ogb-1.3.1-py3-none-any.whl (67 kB)\n",
            "\u001b[?25l\r\u001b[K     |████▉                           | 10 kB 23.8 MB/s eta 0:00:01\r\u001b[K     |█████████▊                      | 20 kB 30.5 MB/s eta 0:00:01\r\u001b[K     |██████████████▌                 | 30 kB 24.5 MB/s eta 0:00:01\r\u001b[K     |███████████████████▍            | 40 kB 19.7 MB/s eta 0:00:01\r\u001b[K     |████████████████████████▎       | 51 kB 9.2 MB/s eta 0:00:01\r\u001b[K     |█████████████████████████████   | 61 kB 10.6 MB/s eta 0:00:01\r\u001b[K     |████████████████████████████████| 67 kB 3.6 MB/s \n",
            "\u001b[?25hRequirement already satisfied: six>=1.12.0 in /usr/local/lib/python3.7/dist-packages (from ogb) (1.15.0)\n",
            "Collecting outdated>=0.2.0\n",
            "  Downloading outdated-0.2.1-py3-none-any.whl (7.5 kB)\n",
            "Requirement already satisfied: scikit-learn>=0.20.0 in /usr/local/lib/python3.7/dist-packages (from ogb) (0.22.2.post1)\n",
            "Requirement already satisfied: tqdm>=4.29.0 in /usr/local/lib/python3.7/dist-packages (from ogb) (4.41.1)\n",
            "Requirement already satisfied: urllib3>=1.24.0 in /usr/local/lib/python3.7/dist-packages (from ogb) (1.24.3)\n",
            "Requirement already satisfied: torch>=1.6.0 in /usr/local/lib/python3.7/dist-packages (from ogb) (1.9.0+cu102)\n",
            "Requirement already satisfied: numpy>=1.16.0 in /usr/local/lib/python3.7/dist-packages (from ogb) (1.19.5)\n",
            "Requirement already satisfied: pandas>=0.24.0 in /usr/local/lib/python3.7/dist-packages (from ogb) (1.1.5)\n",
            "Collecting littleutils\n",
            "  Downloading littleutils-0.2.2.tar.gz (6.6 kB)\n",
            "Requirement already satisfied: requests in /usr/local/lib/python3.7/dist-packages (from outdated>=0.2.0->ogb) (2.23.0)\n",
            "Requirement already satisfied: python-dateutil>=2.7.3 in /usr/local/lib/python3.7/dist-packages (from pandas>=0.24.0->ogb) (2.8.1)\n",
            "Requirement already satisfied: pytz>=2017.2 in /usr/local/lib/python3.7/dist-packages (from pandas>=0.24.0->ogb) (2018.9)\n",
            "Requirement already satisfied: joblib>=0.11 in /usr/local/lib/python3.7/dist-packages (from scikit-learn>=0.20.0->ogb) (1.0.1)\n",
            "Requirement already satisfied: scipy>=0.17.0 in /usr/local/lib/python3.7/dist-packages (from scikit-learn>=0.20.0->ogb) (1.4.1)\n",
            "Requirement already satisfied: typing-extensions in /usr/local/lib/python3.7/dist-packages (from torch>=1.6.0->ogb) (3.7.4.3)\n",
            "Requirement already satisfied: chardet<4,>=3.0.2 in /usr/local/lib/python3.7/dist-packages (from requests->outdated>=0.2.0->ogb) (3.0.4)\n",
            "Requirement already satisfied: idna<3,>=2.5 in /usr/local/lib/python3.7/dist-packages (from requests->outdated>=0.2.0->ogb) (2.10)\n",
            "Requirement already satisfied: certifi>=2017.4.17 in /usr/local/lib/python3.7/dist-packages (from requests->outdated>=0.2.0->ogb) (2021.5.30)\n",
            "Building wheels for collected packages: littleutils\n",
            "  Building wheel for littleutils (setup.py) ... \u001b[?25l\u001b[?25hdone\n",
            "  Created wheel for littleutils: filename=littleutils-0.2.2-py3-none-any.whl size=7048 sha256=b3f3d501b0a1549299a750331574904bcca7efac8dc290eb5452af57b5b38364\n",
            "  Stored in directory: /root/.cache/pip/wheels/d6/64/cd/32819b511a488e4993f2fab909a95330289c3f4e0f6ef4676d\n",
            "Successfully built littleutils\n",
            "Installing collected packages: littleutils, outdated, ogb\n",
            "Successfully installed littleutils-0.2.2 ogb-1.3.1 outdated-0.2.1\n"
          ],
          "name": "stdout"
        }
      ]
    },
    {
      "cell_type": "code",
      "metadata": {
        "colab": {
          "base_uri": "https://localhost:8080/"
        },
        "id": "bm6zJyZrFfHh",
        "outputId": "45e0ff68-ec8d-42b3-f764-460e6ecf5569"
      },
      "source": [
        "pip install rdkit-pypi"
      ],
      "execution_count": 3,
      "outputs": [
        {
          "output_type": "stream",
          "text": [
            "Collecting rdkit-pypi\n",
            "  Downloading rdkit_pypi-2021.3.4-cp37-cp37m-manylinux2014_x86_64.whl (18.6 MB)\n",
            "\u001b[K     |████████████████████████████████| 18.6 MB 1.3 MB/s \n",
            "\u001b[?25hRequirement already satisfied: numpy>=1.19 in /usr/local/lib/python3.7/dist-packages (from rdkit-pypi) (1.19.5)\n",
            "Installing collected packages: rdkit-pypi\n",
            "Successfully installed rdkit-pypi-2021.3.4\n"
          ],
          "name": "stdout"
        }
      ]
    },
    {
      "cell_type": "code",
      "metadata": {
        "colab": {
          "base_uri": "https://localhost:8080/"
        },
        "id": "KUnxcKrCxa-k",
        "outputId": "3275d681-8607-4a4c-8d19-eebca11518f4"
      },
      "source": [
        "!wget https://raw.githubusercontent.com/napoles-uach/DGL_Smell/main/train.csv"
      ],
      "execution_count": 4,
      "outputs": [
        {
          "output_type": "stream",
          "text": [
            "--2021-08-07 00:01:26--  https://raw.githubusercontent.com/napoles-uach/DGL_Smell/main/train.csv\n",
            "Resolving raw.githubusercontent.com (raw.githubusercontent.com)... 185.199.108.133, 185.199.109.133, 185.199.110.133, ...\n",
            "Connecting to raw.githubusercontent.com (raw.githubusercontent.com)|185.199.108.133|:443... connected.\n",
            "HTTP request sent, awaiting response... 200 OK\n",
            "Length: 197190 (193K) [text/plain]\n",
            "Saving to: ‘train.csv’\n",
            "\n",
            "train.csv           100%[===================>] 192.57K  --.-KB/s    in 0.01s   \n",
            "\n",
            "2021-08-07 00:01:27 (14.5 MB/s) - ‘train.csv’ saved [197190/197190]\n",
            "\n"
          ],
          "name": "stdout"
        }
      ]
    },
    {
      "cell_type": "code",
      "metadata": {
        "id": "yflR4vmRFs6q",
        "colab": {
          "base_uri": "https://localhost:8080/",
          "height": 205
        },
        "outputId": "80191637-ca99-4bdb-8c96-feb3bcc83558"
      },
      "source": [
        "import pandas as pd\n",
        "df=pd.read_csv('train.csv')\n",
        "df.head()"
      ],
      "execution_count": 5,
      "outputs": [
        {
          "output_type": "execute_result",
          "data": {
            "text/html": [
              "<div>\n",
              "<style scoped>\n",
              "    .dataframe tbody tr th:only-of-type {\n",
              "        vertical-align: middle;\n",
              "    }\n",
              "\n",
              "    .dataframe tbody tr th {\n",
              "        vertical-align: top;\n",
              "    }\n",
              "\n",
              "    .dataframe thead th {\n",
              "        text-align: right;\n",
              "    }\n",
              "</style>\n",
              "<table border=\"1\" class=\"dataframe\">\n",
              "  <thead>\n",
              "    <tr style=\"text-align: right;\">\n",
              "      <th></th>\n",
              "      <th>SMILES</th>\n",
              "      <th>SENTENCE</th>\n",
              "    </tr>\n",
              "  </thead>\n",
              "  <tbody>\n",
              "    <tr>\n",
              "      <th>0</th>\n",
              "      <td>C/C=C/C(=O)C1CCC(C=C1C)(C)C</td>\n",
              "      <td>fruity,rose</td>\n",
              "    </tr>\n",
              "    <tr>\n",
              "      <th>1</th>\n",
              "      <td>COC(=O)OC</td>\n",
              "      <td>fresh,ethereal,fruity</td>\n",
              "    </tr>\n",
              "    <tr>\n",
              "      <th>2</th>\n",
              "      <td>Cc1cc2c([nH]1)cccc2</td>\n",
              "      <td>resinous,animalic</td>\n",
              "    </tr>\n",
              "    <tr>\n",
              "      <th>3</th>\n",
              "      <td>C1CCCCCCCC(=O)CCCCCCC1</td>\n",
              "      <td>powdery,musk,animalic</td>\n",
              "    </tr>\n",
              "    <tr>\n",
              "      <th>4</th>\n",
              "      <td>CC(CC(=O)OC1CC2C(C1(C)CC2)(C)C)C</td>\n",
              "      <td>coniferous,camphor,fruity</td>\n",
              "    </tr>\n",
              "  </tbody>\n",
              "</table>\n",
              "</div>"
            ],
            "text/plain": [
              "                             SMILES                   SENTENCE\n",
              "0       C/C=C/C(=O)C1CCC(C=C1C)(C)C                fruity,rose\n",
              "1                         COC(=O)OC      fresh,ethereal,fruity\n",
              "2               Cc1cc2c([nH]1)cccc2          resinous,animalic\n",
              "3            C1CCCCCCCC(=O)CCCCCCC1      powdery,musk,animalic\n",
              "4  CC(CC(=O)OC1CC2C(C1(C)CC2)(C)C)C  coniferous,camphor,fruity"
            ]
          },
          "metadata": {
            "tags": []
          },
          "execution_count": 5
        }
      ]
    },
    {
      "cell_type": "code",
      "metadata": {
        "id": "r4ksuKfKFh-3",
        "colab": {
          "base_uri": "https://localhost:8080/"
        },
        "outputId": "edcb1259-709e-4b5d-ae84-fd05e4513d8e"
      },
      "source": [
        "import dgl\n",
        "from dgl.data import DGLDataset\n",
        "import torch\n",
        "import torch as th\n",
        "import os\n",
        "from ogb.utils.features import (allowable_features, atom_to_feature_vector,\n",
        " bond_to_feature_vector, atom_feature_vector_to_dict, bond_feature_vector_to_dict) \n",
        "from rdkit import Chem\n",
        "import numpy as np"
      ],
      "execution_count": 6,
      "outputs": [
        {
          "output_type": "stream",
          "text": [
            "Setting the default backend to \"pytorch\". You can change it in the ~/.dgl/config.json file or export the DGLBACKEND environment variable.  Valid options are: pytorch, mxnet, tensorflow (all lowercase)\n"
          ],
          "name": "stdout"
        },
        {
          "output_type": "stream",
          "text": [
            "DGL backend not selected or invalid.  Assuming PyTorch for now.\n",
            "Using backend: pytorch\n"
          ],
          "name": "stderr"
        }
      ]
    },
    {
      "cell_type": "code",
      "metadata": {
        "id": "hljA-pwWFn5V"
      },
      "source": [
        "def smiles2graph(smiles_string):\n",
        "    \"\"\"\n",
        "    Converts SMILES string to graph Data object\n",
        "    :input: SMILES string (str)\n",
        "    :return: graph object\n",
        "    \"\"\"\n",
        "\n",
        "    mol = Chem.MolFromSmiles(smiles_string)\n",
        "\n",
        "    A = Chem.GetAdjacencyMatrix(mol)\n",
        "    A = np.asmatrix(A)\n",
        "    nnodes=len(A)\n",
        "    nz = np.nonzero(A)\n",
        "    edge_list=[]\n",
        "    src=[]\n",
        "    dst=[]\n",
        "\n",
        "    for i in range(nz[0].shape[0]):\n",
        "      src.append(nz[0][i])\n",
        "      dst.append(nz[1][i])\n",
        "\n",
        "    u, v = src, dst\n",
        "    g = dgl.graph((u, v))\n",
        "    bg=dgl.to_bidirected(g)\n",
        "\n",
        "    return bg"
      ],
      "execution_count": 7,
      "outputs": []
    },
    {
      "cell_type": "code",
      "metadata": {
        "id": "TJMZSQByIOoM"
      },
      "source": [
        "def feat_vec(smiles_string):\n",
        "    \"\"\"\n",
        "    Returns atom features for a molecule given a smiles string\n",
        "    \"\"\"\n",
        "    # atoms\n",
        "    mol = Chem.MolFromSmiles(smiles_string)\n",
        "    atom_features_list = []\n",
        "    for atom in mol.GetAtoms():\n",
        "        atom_features_list.append(atom_to_feature_vector(atom))\n",
        "    x = np.array(atom_features_list, dtype = np.int64)\n",
        "    return x"
      ],
      "execution_count": 8,
      "outputs": []
    },
    {
      "cell_type": "code",
      "metadata": {
        "id": "eMSih8gvHJZk"
      },
      "source": [
        "lista_senten=df['SENTENCE'].to_list()\n",
        "olores=[]\n",
        "labels=[]\n",
        "i=0\n",
        "for olor in lista_senten:\n",
        "  olor=olor.split(\",\")\n",
        "  if 'fruity' in olor:\n",
        "    labels.append(1)\n",
        "    olores.append(olor)\n",
        "  else:\n",
        "    labels.append(0)\n",
        "  i+=1\n",
        "  #olores.append(olor)\n",
        "# da formato correcto a las sentencias en forma de lista\n",
        "#olores"
      ],
      "execution_count": 9,
      "outputs": []
    },
    {
      "cell_type": "code",
      "metadata": {
        "id": "yXp_NN3fF2jH"
      },
      "source": [
        "# This block makes a list of graphs\n",
        "lista_mols=df['SMILES'].to_list()\n",
        "\n",
        "j=0\n",
        "graphs=[]\n",
        "execptions=[]\n",
        "for mol in lista_mols:\n",
        "  \n",
        "  g_mol=smiles2graph(mol)\n",
        "\n",
        "  try:\n",
        "    g_mol.ndata['feat']=torch.tensor(feat_vec(mol)) \n",
        "  except:\n",
        "    execptions.append(j)\n",
        "   \n",
        "\n",
        "  graphs.append(g_mol) #agrega grafo de mol\n",
        "  j+=1"
      ],
      "execution_count": 10,
      "outputs": []
    },
    {
      "cell_type": "code",
      "metadata": {
        "id": "INXKrAF1_RTq"
      },
      "source": [
        "# Some smiles are not well processed, so they are droped\n",
        "for i in execptions:\n",
        "  graphs.pop(i)\n",
        "  labels.pop(i)"
      ],
      "execution_count": 11,
      "outputs": []
    },
    {
      "cell_type": "code",
      "metadata": {
        "id": "Pq10lp6dQsKM"
      },
      "source": [
        "import dgl\n",
        "import torch\n",
        "import torch.nn as nn\n",
        "import torch.nn.functional as F"
      ],
      "execution_count": 12,
      "outputs": []
    },
    {
      "cell_type": "code",
      "metadata": {
        "id": "iZMKZdtyJQJ7"
      },
      "source": [
        "labels=F.one_hot(torch.LongTensor(labels), num_classes=2)"
      ],
      "execution_count": 13,
      "outputs": []
    },
    {
      "cell_type": "code",
      "metadata": {
        "colab": {
          "base_uri": "https://localhost:8080/"
        },
        "id": "8PhajspvY6E5",
        "outputId": "60912291-1370-44a2-e088-bbe644d06ebe"
      },
      "source": [
        "labels"
      ],
      "execution_count": 14,
      "outputs": [
        {
          "output_type": "execute_result",
          "data": {
            "text/plain": [
              "tensor([[0, 1],\n",
              "        [0, 1],\n",
              "        [1, 0],\n",
              "        ...,\n",
              "        [1, 0],\n",
              "        [1, 0],\n",
              "        [1, 0]])"
            ]
          },
          "metadata": {
            "tags": []
          },
          "execution_count": 14
        }
      ]
    },
    {
      "cell_type": "code",
      "metadata": {
        "id": "uxRV1SvKj5tj"
      },
      "source": [
        "class SyntheticDataset(DGLDataset):\n",
        "    def __init__(self):\n",
        "        super().__init__(name='synthetic')\n",
        "\n",
        "    def process(self):\n",
        "        #edges = pd.read_csv('./graph_edges.csv')\n",
        "        #properties = pd.read_csv('./graph_properties.csv')\n",
        "        self.graphs = graphs\n",
        "        self.labels = labels#torch.LongTensor(labels)\n",
        "\n",
        "    def __getitem__(self, i):\n",
        "        return self.graphs[i], self.labels[i]\n",
        "\n",
        "    def __len__(self):\n",
        "        return len(self.graphs)\n",
        "\n",
        "dataset = SyntheticDataset()\n",
        "#graph, label = dataset[0]\n",
        "#print(graph, label)"
      ],
      "execution_count": 15,
      "outputs": []
    },
    {
      "cell_type": "code",
      "metadata": {
        "id": "8S_ob4ncMJ3W"
      },
      "source": [
        "from dgl.dataloading import GraphDataLoader\n",
        "from torch.utils.data.sampler import SubsetRandomSampler\n",
        "\n",
        "num_examples = len(dataset)\n",
        "num_train = int(num_examples * 0.8)\n",
        "\n",
        "train_sampler = SubsetRandomSampler(torch.arange(num_train))\n",
        "test_sampler = SubsetRandomSampler(torch.arange(num_train, num_examples))\n",
        "\n",
        "train_dataloader = GraphDataLoader(\n",
        "    dataset, sampler=train_sampler, batch_size=5, drop_last=False)\n",
        "test_dataloader = GraphDataLoader(\n",
        "    dataset, sampler=test_sampler, batch_size=5, drop_last=False)"
      ],
      "execution_count": 16,
      "outputs": []
    },
    {
      "cell_type": "code",
      "metadata": {
        "colab": {
          "base_uri": "https://localhost:8080/",
          "height": 1000
        },
        "id": "hYmQeuo1uu6w",
        "outputId": "26569fe1-e2ab-4f25-9290-5dae63bddba1"
      },
      "source": [
        "for batched_graph, labels in train_dataloader:\n",
        "    print(batched_graph,labels)\n"
      ],
      "execution_count": 17,
      "outputs": [
        {
          "output_type": "stream",
          "text": [
            "Graph(num_nodes=79, num_edges=160,\n",
            "      ndata_schemes={'feat': Scheme(shape=(9,), dtype=torch.int64)}\n",
            "      edata_schemes={}) tensor([[1, 0],\n",
            "        [1, 0],\n",
            "        [1, 0],\n",
            "        [1, 0],\n",
            "        [1, 0]])\n",
            "Graph(num_nodes=47, num_edges=90,\n",
            "      ndata_schemes={'feat': Scheme(shape=(9,), dtype=torch.int64)}\n",
            "      edata_schemes={}) tensor([[1, 0],\n",
            "        [0, 1],\n",
            "        [1, 0],\n",
            "        [1, 0],\n",
            "        [1, 0]])\n",
            "Graph(num_nodes=73, num_edges=142,\n",
            "      ndata_schemes={'feat': Scheme(shape=(9,), dtype=torch.int64)}\n",
            "      edata_schemes={}) tensor([[1, 0],\n",
            "        [1, 0],\n",
            "        [1, 0],\n",
            "        [1, 0],\n",
            "        [1, 0]])\n",
            "Graph(num_nodes=54, num_edges=104,\n",
            "      ndata_schemes={'feat': Scheme(shape=(9,), dtype=torch.int64)}\n",
            "      edata_schemes={}) tensor([[1, 0],\n",
            "        [1, 0],\n",
            "        [1, 0],\n",
            "        [1, 0],\n",
            "        [0, 1]])\n",
            "Graph(num_nodes=74, num_edges=144,\n",
            "      ndata_schemes={'feat': Scheme(shape=(9,), dtype=torch.int64)}\n",
            "      edata_schemes={}) tensor([[0, 1],\n",
            "        [1, 0],\n",
            "        [1, 0],\n",
            "        [1, 0],\n",
            "        [1, 0]])\n",
            "Graph(num_nodes=122, num_edges=250,\n",
            "      ndata_schemes={'feat': Scheme(shape=(9,), dtype=torch.int64)}\n",
            "      edata_schemes={}) tensor([[1, 0],\n",
            "        [1, 0],\n",
            "        [1, 0],\n",
            "        [1, 0],\n",
            "        [1, 0]])\n",
            "Graph(num_nodes=76, num_edges=146,\n",
            "      ndata_schemes={'feat': Scheme(shape=(9,), dtype=torch.int64)}\n",
            "      edata_schemes={}) tensor([[0, 1],\n",
            "        [1, 0],\n",
            "        [1, 0],\n",
            "        [0, 1],\n",
            "        [1, 0]])\n",
            "Graph(num_nodes=60, num_edges=122,\n",
            "      ndata_schemes={'feat': Scheme(shape=(9,), dtype=torch.int64)}\n",
            "      edata_schemes={}) tensor([[1, 0],\n",
            "        [0, 1],\n",
            "        [1, 0],\n",
            "        [1, 0],\n",
            "        [1, 0]])\n",
            "Graph(num_nodes=65, num_edges=128,\n",
            "      ndata_schemes={'feat': Scheme(shape=(9,), dtype=torch.int64)}\n",
            "      edata_schemes={}) tensor([[0, 1],\n",
            "        [1, 0],\n",
            "        [1, 0],\n",
            "        [0, 1],\n",
            "        [1, 0]])\n",
            "Graph(num_nodes=60, num_edges=124,\n",
            "      ndata_schemes={'feat': Scheme(shape=(9,), dtype=torch.int64)}\n",
            "      edata_schemes={}) tensor([[1, 0],\n",
            "        [1, 0],\n",
            "        [1, 0],\n",
            "        [1, 0],\n",
            "        [1, 0]])\n",
            "Graph(num_nodes=53, num_edges=96,\n",
            "      ndata_schemes={'feat': Scheme(shape=(9,), dtype=torch.int64)}\n",
            "      edata_schemes={}) tensor([[0, 1],\n",
            "        [1, 0],\n",
            "        [1, 0],\n",
            "        [0, 1],\n",
            "        [1, 0]])\n",
            "Graph(num_nodes=63, num_edges=128,\n",
            "      ndata_schemes={'feat': Scheme(shape=(9,), dtype=torch.int64)}\n",
            "      edata_schemes={}) tensor([[1, 0],\n",
            "        [1, 0],\n",
            "        [1, 0],\n",
            "        [1, 0],\n",
            "        [0, 1]])\n",
            "Graph(num_nodes=69, num_edges=144,\n",
            "      ndata_schemes={'feat': Scheme(shape=(9,), dtype=torch.int64)}\n",
            "      edata_schemes={}) tensor([[1, 0],\n",
            "        [1, 0],\n",
            "        [0, 1],\n",
            "        [0, 1],\n",
            "        [1, 0]])\n",
            "Graph(num_nodes=70, num_edges=150,\n",
            "      ndata_schemes={'feat': Scheme(shape=(9,), dtype=torch.int64)}\n",
            "      edata_schemes={}) tensor([[0, 1],\n",
            "        [1, 0],\n",
            "        [1, 0],\n",
            "        [1, 0],\n",
            "        [1, 0]])\n",
            "Graph(num_nodes=65, num_edges=126,\n",
            "      ndata_schemes={'feat': Scheme(shape=(9,), dtype=torch.int64)}\n",
            "      edata_schemes={}) tensor([[1, 0],\n",
            "        [1, 0],\n",
            "        [1, 0],\n",
            "        [1, 0],\n",
            "        [1, 0]])\n",
            "Graph(num_nodes=70, num_edges=142,\n",
            "      ndata_schemes={'feat': Scheme(shape=(9,), dtype=torch.int64)}\n",
            "      edata_schemes={}) tensor([[1, 0],\n",
            "        [1, 0],\n",
            "        [1, 0],\n",
            "        [0, 1],\n",
            "        [1, 0]])\n"
          ],
          "name": "stdout"
        },
        {
          "output_type": "error",
          "ename": "DGLError",
          "evalue": "ignored",
          "traceback": [
            "\u001b[0;31m---------------------------------------------------------------------------\u001b[0m",
            "\u001b[0;31mDGLError\u001b[0m                                  Traceback (most recent call last)",
            "\u001b[0;32m<ipython-input-17-044403c289fa>\u001b[0m in \u001b[0;36m<module>\u001b[0;34m()\u001b[0m\n\u001b[0;32m----> 1\u001b[0;31m \u001b[0;32mfor\u001b[0m \u001b[0mbatched_graph\u001b[0m\u001b[0;34m,\u001b[0m \u001b[0mlabels\u001b[0m \u001b[0;32min\u001b[0m \u001b[0mtrain_dataloader\u001b[0m\u001b[0;34m:\u001b[0m\u001b[0;34m\u001b[0m\u001b[0;34m\u001b[0m\u001b[0m\n\u001b[0m\u001b[1;32m      2\u001b[0m     \u001b[0mprint\u001b[0m\u001b[0;34m(\u001b[0m\u001b[0mbatched_graph\u001b[0m\u001b[0;34m,\u001b[0m\u001b[0mlabels\u001b[0m\u001b[0;34m)\u001b[0m\u001b[0;34m\u001b[0m\u001b[0;34m\u001b[0m\u001b[0m\n",
            "\u001b[0;32m/usr/local/lib/python3.7/dist-packages/torch/utils/data/dataloader.py\u001b[0m in \u001b[0;36m__next__\u001b[0;34m(self)\u001b[0m\n\u001b[1;32m    519\u001b[0m             \u001b[0;32mif\u001b[0m \u001b[0mself\u001b[0m\u001b[0;34m.\u001b[0m\u001b[0m_sampler_iter\u001b[0m \u001b[0;32mis\u001b[0m \u001b[0;32mNone\u001b[0m\u001b[0;34m:\u001b[0m\u001b[0;34m\u001b[0m\u001b[0;34m\u001b[0m\u001b[0m\n\u001b[1;32m    520\u001b[0m                 \u001b[0mself\u001b[0m\u001b[0;34m.\u001b[0m\u001b[0m_reset\u001b[0m\u001b[0;34m(\u001b[0m\u001b[0;34m)\u001b[0m\u001b[0;34m\u001b[0m\u001b[0;34m\u001b[0m\u001b[0m\n\u001b[0;32m--> 521\u001b[0;31m             \u001b[0mdata\u001b[0m \u001b[0;34m=\u001b[0m \u001b[0mself\u001b[0m\u001b[0;34m.\u001b[0m\u001b[0m_next_data\u001b[0m\u001b[0;34m(\u001b[0m\u001b[0;34m)\u001b[0m\u001b[0;34m\u001b[0m\u001b[0;34m\u001b[0m\u001b[0m\n\u001b[0m\u001b[1;32m    522\u001b[0m             \u001b[0mself\u001b[0m\u001b[0;34m.\u001b[0m\u001b[0m_num_yielded\u001b[0m \u001b[0;34m+=\u001b[0m \u001b[0;36m1\u001b[0m\u001b[0;34m\u001b[0m\u001b[0;34m\u001b[0m\u001b[0m\n\u001b[1;32m    523\u001b[0m             \u001b[0;32mif\u001b[0m \u001b[0mself\u001b[0m\u001b[0;34m.\u001b[0m\u001b[0m_dataset_kind\u001b[0m \u001b[0;34m==\u001b[0m \u001b[0m_DatasetKind\u001b[0m\u001b[0;34m.\u001b[0m\u001b[0mIterable\u001b[0m \u001b[0;32mand\u001b[0m\u001b[0;31m \u001b[0m\u001b[0;31m\\\u001b[0m\u001b[0;34m\u001b[0m\u001b[0;34m\u001b[0m\u001b[0m\n",
            "\u001b[0;32m/usr/local/lib/python3.7/dist-packages/torch/utils/data/dataloader.py\u001b[0m in \u001b[0;36m_next_data\u001b[0;34m(self)\u001b[0m\n\u001b[1;32m    559\u001b[0m     \u001b[0;32mdef\u001b[0m \u001b[0m_next_data\u001b[0m\u001b[0;34m(\u001b[0m\u001b[0mself\u001b[0m\u001b[0;34m)\u001b[0m\u001b[0;34m:\u001b[0m\u001b[0;34m\u001b[0m\u001b[0;34m\u001b[0m\u001b[0m\n\u001b[1;32m    560\u001b[0m         \u001b[0mindex\u001b[0m \u001b[0;34m=\u001b[0m \u001b[0mself\u001b[0m\u001b[0;34m.\u001b[0m\u001b[0m_next_index\u001b[0m\u001b[0;34m(\u001b[0m\u001b[0;34m)\u001b[0m  \u001b[0;31m# may raise StopIteration\u001b[0m\u001b[0;34m\u001b[0m\u001b[0;34m\u001b[0m\u001b[0m\n\u001b[0;32m--> 561\u001b[0;31m         \u001b[0mdata\u001b[0m \u001b[0;34m=\u001b[0m \u001b[0mself\u001b[0m\u001b[0;34m.\u001b[0m\u001b[0m_dataset_fetcher\u001b[0m\u001b[0;34m.\u001b[0m\u001b[0mfetch\u001b[0m\u001b[0;34m(\u001b[0m\u001b[0mindex\u001b[0m\u001b[0;34m)\u001b[0m  \u001b[0;31m# may raise StopIteration\u001b[0m\u001b[0;34m\u001b[0m\u001b[0;34m\u001b[0m\u001b[0m\n\u001b[0m\u001b[1;32m    562\u001b[0m         \u001b[0;32mif\u001b[0m \u001b[0mself\u001b[0m\u001b[0;34m.\u001b[0m\u001b[0m_pin_memory\u001b[0m\u001b[0;34m:\u001b[0m\u001b[0;34m\u001b[0m\u001b[0;34m\u001b[0m\u001b[0m\n\u001b[1;32m    563\u001b[0m             \u001b[0mdata\u001b[0m \u001b[0;34m=\u001b[0m \u001b[0m_utils\u001b[0m\u001b[0;34m.\u001b[0m\u001b[0mpin_memory\u001b[0m\u001b[0;34m.\u001b[0m\u001b[0mpin_memory\u001b[0m\u001b[0;34m(\u001b[0m\u001b[0mdata\u001b[0m\u001b[0;34m)\u001b[0m\u001b[0;34m\u001b[0m\u001b[0;34m\u001b[0m\u001b[0m\n",
            "\u001b[0;32m/usr/local/lib/python3.7/dist-packages/torch/utils/data/_utils/fetch.py\u001b[0m in \u001b[0;36mfetch\u001b[0;34m(self, possibly_batched_index)\u001b[0m\n\u001b[1;32m     45\u001b[0m         \u001b[0;32melse\u001b[0m\u001b[0;34m:\u001b[0m\u001b[0;34m\u001b[0m\u001b[0;34m\u001b[0m\u001b[0m\n\u001b[1;32m     46\u001b[0m             \u001b[0mdata\u001b[0m \u001b[0;34m=\u001b[0m \u001b[0mself\u001b[0m\u001b[0;34m.\u001b[0m\u001b[0mdataset\u001b[0m\u001b[0;34m[\u001b[0m\u001b[0mpossibly_batched_index\u001b[0m\u001b[0;34m]\u001b[0m\u001b[0;34m\u001b[0m\u001b[0;34m\u001b[0m\u001b[0m\n\u001b[0;32m---> 47\u001b[0;31m         \u001b[0;32mreturn\u001b[0m \u001b[0mself\u001b[0m\u001b[0;34m.\u001b[0m\u001b[0mcollate_fn\u001b[0m\u001b[0;34m(\u001b[0m\u001b[0mdata\u001b[0m\u001b[0;34m)\u001b[0m\u001b[0;34m\u001b[0m\u001b[0;34m\u001b[0m\u001b[0m\n\u001b[0m",
            "\u001b[0;32m/usr/local/lib/python3.7/dist-packages/dgl/dataloading/dataloader.py\u001b[0m in \u001b[0;36mcollate\u001b[0;34m(self, items)\u001b[0m\n\u001b[1;32m    799\u001b[0m                 \u001b[0;32mraise\u001b[0m \u001b[0mRuntimeError\u001b[0m\u001b[0;34m(\u001b[0m\u001b[0;34m'each element in list of batch should be of equal size'\u001b[0m\u001b[0;34m)\u001b[0m\u001b[0;34m\u001b[0m\u001b[0;34m\u001b[0m\u001b[0m\n\u001b[1;32m    800\u001b[0m             \u001b[0mtransposed\u001b[0m \u001b[0;34m=\u001b[0m \u001b[0mzip\u001b[0m\u001b[0;34m(\u001b[0m\u001b[0;34m*\u001b[0m\u001b[0mitems\u001b[0m\u001b[0;34m)\u001b[0m\u001b[0;34m\u001b[0m\u001b[0;34m\u001b[0m\u001b[0m\n\u001b[0;32m--> 801\u001b[0;31m             \u001b[0;32mreturn\u001b[0m \u001b[0;34m[\u001b[0m\u001b[0mself\u001b[0m\u001b[0;34m.\u001b[0m\u001b[0mcollate\u001b[0m\u001b[0;34m(\u001b[0m\u001b[0msamples\u001b[0m\u001b[0;34m)\u001b[0m \u001b[0;32mfor\u001b[0m \u001b[0msamples\u001b[0m \u001b[0;32min\u001b[0m \u001b[0mtransposed\u001b[0m\u001b[0;34m]\u001b[0m\u001b[0;34m\u001b[0m\u001b[0;34m\u001b[0m\u001b[0m\n\u001b[0m\u001b[1;32m    802\u001b[0m \u001b[0;34m\u001b[0m\u001b[0m\n\u001b[1;32m    803\u001b[0m         \u001b[0;32mraise\u001b[0m \u001b[0mTypeError\u001b[0m\u001b[0;34m(\u001b[0m\u001b[0mself\u001b[0m\u001b[0;34m.\u001b[0m\u001b[0mgraph_collate_err_msg_format\u001b[0m\u001b[0;34m.\u001b[0m\u001b[0mformat\u001b[0m\u001b[0;34m(\u001b[0m\u001b[0melem_type\u001b[0m\u001b[0;34m)\u001b[0m\u001b[0;34m)\u001b[0m\u001b[0;34m\u001b[0m\u001b[0;34m\u001b[0m\u001b[0m\n",
            "\u001b[0;32m/usr/local/lib/python3.7/dist-packages/dgl/dataloading/dataloader.py\u001b[0m in \u001b[0;36m<listcomp>\u001b[0;34m(.0)\u001b[0m\n\u001b[1;32m    799\u001b[0m                 \u001b[0;32mraise\u001b[0m \u001b[0mRuntimeError\u001b[0m\u001b[0;34m(\u001b[0m\u001b[0;34m'each element in list of batch should be of equal size'\u001b[0m\u001b[0;34m)\u001b[0m\u001b[0;34m\u001b[0m\u001b[0;34m\u001b[0m\u001b[0m\n\u001b[1;32m    800\u001b[0m             \u001b[0mtransposed\u001b[0m \u001b[0;34m=\u001b[0m \u001b[0mzip\u001b[0m\u001b[0;34m(\u001b[0m\u001b[0;34m*\u001b[0m\u001b[0mitems\u001b[0m\u001b[0;34m)\u001b[0m\u001b[0;34m\u001b[0m\u001b[0;34m\u001b[0m\u001b[0m\n\u001b[0;32m--> 801\u001b[0;31m             \u001b[0;32mreturn\u001b[0m \u001b[0;34m[\u001b[0m\u001b[0mself\u001b[0m\u001b[0;34m.\u001b[0m\u001b[0mcollate\u001b[0m\u001b[0;34m(\u001b[0m\u001b[0msamples\u001b[0m\u001b[0;34m)\u001b[0m \u001b[0;32mfor\u001b[0m \u001b[0msamples\u001b[0m \u001b[0;32min\u001b[0m \u001b[0mtransposed\u001b[0m\u001b[0;34m]\u001b[0m\u001b[0;34m\u001b[0m\u001b[0;34m\u001b[0m\u001b[0m\n\u001b[0m\u001b[1;32m    802\u001b[0m \u001b[0;34m\u001b[0m\u001b[0m\n\u001b[1;32m    803\u001b[0m         \u001b[0;32mraise\u001b[0m \u001b[0mTypeError\u001b[0m\u001b[0;34m(\u001b[0m\u001b[0mself\u001b[0m\u001b[0;34m.\u001b[0m\u001b[0mgraph_collate_err_msg_format\u001b[0m\u001b[0;34m.\u001b[0m\u001b[0mformat\u001b[0m\u001b[0;34m(\u001b[0m\u001b[0melem_type\u001b[0m\u001b[0;34m)\u001b[0m\u001b[0;34m)\u001b[0m\u001b[0;34m\u001b[0m\u001b[0;34m\u001b[0m\u001b[0m\n",
            "\u001b[0;32m/usr/local/lib/python3.7/dist-packages/dgl/dataloading/dataloader.py\u001b[0m in \u001b[0;36mcollate\u001b[0;34m(self, items)\u001b[0m\n\u001b[1;32m    768\u001b[0m         \u001b[0melem_type\u001b[0m \u001b[0;34m=\u001b[0m \u001b[0mtype\u001b[0m\u001b[0;34m(\u001b[0m\u001b[0melem\u001b[0m\u001b[0;34m)\u001b[0m\u001b[0;34m\u001b[0m\u001b[0;34m\u001b[0m\u001b[0m\n\u001b[1;32m    769\u001b[0m         \u001b[0;32mif\u001b[0m \u001b[0misinstance\u001b[0m\u001b[0;34m(\u001b[0m\u001b[0melem\u001b[0m\u001b[0;34m,\u001b[0m \u001b[0mDGLGraph\u001b[0m\u001b[0;34m)\u001b[0m\u001b[0;34m:\u001b[0m\u001b[0;34m\u001b[0m\u001b[0;34m\u001b[0m\u001b[0m\n\u001b[0;32m--> 770\u001b[0;31m             \u001b[0mbatched_graphs\u001b[0m \u001b[0;34m=\u001b[0m \u001b[0mbatch\u001b[0m\u001b[0;34m(\u001b[0m\u001b[0mitems\u001b[0m\u001b[0;34m)\u001b[0m\u001b[0;34m\u001b[0m\u001b[0;34m\u001b[0m\u001b[0m\n\u001b[0m\u001b[1;32m    771\u001b[0m             \u001b[0;32mreturn\u001b[0m \u001b[0mbatched_graphs\u001b[0m\u001b[0;34m\u001b[0m\u001b[0;34m\u001b[0m\u001b[0m\n\u001b[1;32m    772\u001b[0m         \u001b[0;32melif\u001b[0m \u001b[0mF\u001b[0m\u001b[0;34m.\u001b[0m\u001b[0mis_tensor\u001b[0m\u001b[0;34m(\u001b[0m\u001b[0melem\u001b[0m\u001b[0;34m)\u001b[0m\u001b[0;34m:\u001b[0m\u001b[0;34m\u001b[0m\u001b[0;34m\u001b[0m\u001b[0m\n",
            "\u001b[0;32m/usr/local/lib/python3.7/dist-packages/dgl/batch.py\u001b[0m in \u001b[0;36mbatch\u001b[0;34m(graphs, ndata, edata, node_attrs, edge_attrs)\u001b[0m\n\u001b[1;32m    199\u001b[0m             \u001b[0;31m# TODO: do we require graphs with no nodes/edges to have the same schema?  Currently\u001b[0m\u001b[0;34m\u001b[0m\u001b[0;34m\u001b[0m\u001b[0;34m\u001b[0m\u001b[0m\n\u001b[1;32m    200\u001b[0m             \u001b[0;31m# we allow empty graphs to have no features during batching.\u001b[0m\u001b[0;34m\u001b[0m\u001b[0;34m\u001b[0m\u001b[0;34m\u001b[0m\u001b[0m\n\u001b[0;32m--> 201\u001b[0;31m             \u001b[0mret_feat\u001b[0m \u001b[0;34m=\u001b[0m \u001b[0m_batch_feat_dicts\u001b[0m\u001b[0;34m(\u001b[0m\u001b[0mframes\u001b[0m\u001b[0;34m,\u001b[0m \u001b[0mndata\u001b[0m\u001b[0;34m,\u001b[0m \u001b[0;34m'nodes[\"{}\"].data'\u001b[0m\u001b[0;34m.\u001b[0m\u001b[0mformat\u001b[0m\u001b[0;34m(\u001b[0m\u001b[0mntype\u001b[0m\u001b[0;34m)\u001b[0m\u001b[0;34m)\u001b[0m\u001b[0;34m\u001b[0m\u001b[0;34m\u001b[0m\u001b[0m\n\u001b[0m\u001b[1;32m    202\u001b[0m             \u001b[0mretg\u001b[0m\u001b[0;34m.\u001b[0m\u001b[0mnodes\u001b[0m\u001b[0;34m[\u001b[0m\u001b[0mntype\u001b[0m\u001b[0;34m]\u001b[0m\u001b[0;34m.\u001b[0m\u001b[0mdata\u001b[0m\u001b[0;34m.\u001b[0m\u001b[0mupdate\u001b[0m\u001b[0;34m(\u001b[0m\u001b[0mret_feat\u001b[0m\u001b[0;34m)\u001b[0m\u001b[0;34m\u001b[0m\u001b[0;34m\u001b[0m\u001b[0m\n\u001b[1;32m    203\u001b[0m \u001b[0;34m\u001b[0m\u001b[0m\n",
            "\u001b[0;32m/usr/local/lib/python3.7/dist-packages/dgl/batch.py\u001b[0m in \u001b[0;36m_batch_feat_dicts\u001b[0;34m(frames, keys, feat_dict_name)\u001b[0m\n\u001b[1;32m    238\u001b[0m     \u001b[0;31m# sanity checks\u001b[0m\u001b[0;34m\u001b[0m\u001b[0;34m\u001b[0m\u001b[0;34m\u001b[0m\u001b[0m\n\u001b[1;32m    239\u001b[0m     \u001b[0;32mif\u001b[0m \u001b[0mis_all\u001b[0m\u001b[0;34m(\u001b[0m\u001b[0mkeys\u001b[0m\u001b[0;34m)\u001b[0m\u001b[0;34m:\u001b[0m\u001b[0;34m\u001b[0m\u001b[0;34m\u001b[0m\u001b[0m\n\u001b[0;32m--> 240\u001b[0;31m         \u001b[0mutils\u001b[0m\u001b[0;34m.\u001b[0m\u001b[0mcheck_all_same_schema\u001b[0m\u001b[0;34m(\u001b[0m\u001b[0mschemas\u001b[0m\u001b[0;34m,\u001b[0m \u001b[0mfeat_dict_name\u001b[0m\u001b[0;34m)\u001b[0m\u001b[0;34m\u001b[0m\u001b[0;34m\u001b[0m\u001b[0m\n\u001b[0m\u001b[1;32m    241\u001b[0m         \u001b[0mkeys\u001b[0m \u001b[0;34m=\u001b[0m \u001b[0mschemas\u001b[0m\u001b[0;34m[\u001b[0m\u001b[0;36m0\u001b[0m\u001b[0;34m]\u001b[0m\u001b[0;34m.\u001b[0m\u001b[0mkeys\u001b[0m\u001b[0;34m(\u001b[0m\u001b[0;34m)\u001b[0m\u001b[0;34m\u001b[0m\u001b[0;34m\u001b[0m\u001b[0m\n\u001b[1;32m    242\u001b[0m     \u001b[0;32melse\u001b[0m\u001b[0;34m:\u001b[0m\u001b[0;34m\u001b[0m\u001b[0;34m\u001b[0m\u001b[0m\n",
            "\u001b[0;32m/usr/local/lib/python3.7/dist-packages/dgl/utils/checks.py\u001b[0m in \u001b[0;36mcheck_all_same_schema\u001b[0;34m(schemas, name)\u001b[0m\n\u001b[1;32m    130\u001b[0m                 \u001b[0;34m'Expect all graphs to have the same schema on {}, '\u001b[0m\u001b[0;34m\u001b[0m\u001b[0;34m\u001b[0m\u001b[0m\n\u001b[1;32m    131\u001b[0m                 'but graph {} got\\n\\t{}\\nwhich is different from\\n\\t{}.'.format(\n\u001b[0;32m--> 132\u001b[0;31m                     name, i, schema, schemas[0]))\n\u001b[0m\u001b[1;32m    133\u001b[0m \u001b[0;34m\u001b[0m\u001b[0m\n\u001b[1;32m    134\u001b[0m \u001b[0;32mdef\u001b[0m \u001b[0mcheck_all_same_schema_for_keys\u001b[0m\u001b[0;34m(\u001b[0m\u001b[0mschemas\u001b[0m\u001b[0;34m,\u001b[0m \u001b[0mkeys\u001b[0m\u001b[0;34m,\u001b[0m \u001b[0mname\u001b[0m\u001b[0;34m)\u001b[0m\u001b[0;34m:\u001b[0m\u001b[0;34m\u001b[0m\u001b[0;34m\u001b[0m\u001b[0m\n",
            "\u001b[0;31mDGLError\u001b[0m: Expect all graphs to have the same schema on nodes[\"_N\"].data, but graph 2 got\n\t{}\nwhich is different from\n\t{'feat': Scheme(shape=(9,), dtype=torch.int64)}."
          ]
        }
      ]
    },
    {
      "cell_type": "code",
      "metadata": {
        "id": "au_ltWk4R28I"
      },
      "source": [
        "import dgl\n",
        "import torch\n",
        "import torch.nn as nn\n",
        "import torch.nn.functional as F"
      ],
      "execution_count": null,
      "outputs": []
    },
    {
      "cell_type": "code",
      "metadata": {
        "id": "FroIPXjFRrqR"
      },
      "source": [
        "from dgl.nn import GraphConv\n",
        "class Net(nn.Module):\n",
        "    def __init__(self):\n",
        "        super(Net, self).__init__()\n",
        "        self.layer1 = GraphConv(9, 16) #activation default=None\n",
        "        self.layer2 = GraphConv(16, 2)    #activation default=None\n",
        "\n",
        "\n",
        "    def forward(self, g, features):\n",
        "        x1 = F.relu(self.layer1(g, features)) #ReLU activation function\n",
        "        x2 = self.layer2(g, x1)\n",
        "        return x2\n",
        "net = Net()"
      ],
      "execution_count": null,
      "outputs": []
    },
    {
      "cell_type": "code",
      "metadata": {
        "id": "jA6R_bKQtC7n"
      },
      "source": [
        "graphs[10].ndata['feat'].float()"
      ],
      "execution_count": null,
      "outputs": []
    },
    {
      "cell_type": "code",
      "metadata": {
        "id": "hjicomYcUlAE"
      },
      "source": [
        "\n",
        "import numpy as np\n",
        "#g.add_edges(g.nodes(), g.nodes())\n",
        "optimizer = th.optim.Adam(net.parameters(), lr=1e-2)\n",
        "\n",
        "optimizer = torch.optim.Adam(model.parameters(), lr=0.01)\n",
        "\n",
        "for epoch in range(20):\n",
        "    #for batched_graph, labels in train_dataloader:\n",
        "    net.train()\n",
        "    pred = net(graphs[10], graphs[10].ndata['feat'].float())\n",
        "        #loss = F.cross_entropy(pred, labels)\n",
        "        #optimizer.zero_grad()\n",
        "        #loss.backward()\n",
        "        #optimizer.step()\n",
        "\n",
        "#loss_list=[]\n",
        "#acc_list=[]\n",
        "#all_logits=[]\n",
        "#for epoch in range(200):\n",
        "#    net.train()\n",
        "#    logits = net(graphs[0], graphs[0].ndata['feat'])\n",
        "#    pred=sum(logits)\n",
        "#    logp = F.log_softmax(pred, 0)\n",
        "\n",
        "\n",
        "\n",
        "    #pred = model(batched_graph, batched_graph.ndata['attr'].float())\n",
        "    #loss = F.cross_entropy(pred, labels[0])\n",
        "    \n",
        "    #print(logits)\n",
        "    #logp = F.log_softmax(logits, 1)\n",
        "    #all_logits.append(logp)\n",
        "#    loss = F.nll_loss(logp[train_mask], labels[train_mask])\n",
        "\n",
        "#    optimizer.zero_grad()\n",
        "#    loss.backward()\n",
        "#    optimizer.step()\n",
        "\n",
        "#    acc = evaluate(net, g, features, labels, test_mask)\n",
        "#    loss_list.append(loss.item())\n",
        "#    acc_list.append(acc)"
      ],
      "execution_count": null,
      "outputs": []
    },
    {
      "cell_type": "code",
      "metadata": {
        "id": "YzUgYURqtSy2"
      },
      "source": [
        ""
      ],
      "execution_count": null,
      "outputs": []
    }
  ]
}