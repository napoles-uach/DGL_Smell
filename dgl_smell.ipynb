{
  "nbformat": 4,
  "nbformat_minor": 0,
  "metadata": {
    "colab": {
      "name": "dgl_smell.ipynb",
      "provenance": [],
      "collapsed_sections": [],
      "authorship_tag": "ABX9TyOHiUCdZ6uZJifDCMTvVCVJ",
      "include_colab_link": true
    },
    "kernelspec": {
      "name": "python3",
      "display_name": "Python 3"
    },
    "language_info": {
      "name": "python"
    }
  },
  "cells": [
    {
      "cell_type": "markdown",
      "metadata": {
        "id": "view-in-github",
        "colab_type": "text"
      },
      "source": [
        "<a href=\"https://colab.research.google.com/github/napoles-uach/DGL_Smell/blob/main/dgl_smell.ipynb\" target=\"_parent\"><img src=\"https://colab.research.google.com/assets/colab-badge.svg\" alt=\"Open In Colab\"/></a>"
      ]
    },
    {
      "cell_type": "code",
      "metadata": {
        "id": "Fh1FE0lhE9hh"
      },
      "source": [
        "pip install dgl"
      ],
      "execution_count": null,
      "outputs": []
    },
    {
      "cell_type": "code",
      "metadata": {
        "id": "y62N92-cFWFw"
      },
      "source": [
        "pip install ogb"
      ],
      "execution_count": null,
      "outputs": []
    },
    {
      "cell_type": "code",
      "metadata": {
        "id": "bm6zJyZrFfHh"
      },
      "source": [
        "pip install rdkit-pypi"
      ],
      "execution_count": null,
      "outputs": []
    },
    {
      "cell_type": "code",
      "metadata": {
        "id": "KUnxcKrCxa-k"
      },
      "source": [
        "!wget https://raw.githubusercontent.com/napoles-uach/DGL_Smell/main/train.csv"
      ],
      "execution_count": null,
      "outputs": []
    },
    {
      "cell_type": "code",
      "metadata": {
        "id": "r4ksuKfKFh-3"
      },
      "source": [
        "# modificación para moleculas\n",
        "import dgl\n",
        "from dgl.data import DGLDataset\n",
        "import torch\n",
        "import torch as th\n",
        "import os\n",
        "from ogb.utils.features import (allowable_features, atom_to_feature_vector,\n",
        " bond_to_feature_vector, atom_feature_vector_to_dict, bond_feature_vector_to_dict) \n",
        "from rdkit import Chem\n",
        "import numpy as np"
      ],
      "execution_count": 55,
      "outputs": []
    },
    {
      "cell_type": "code",
      "metadata": {
        "id": "hljA-pwWFn5V"
      },
      "source": [
        "def smiles2graph(smiles_string):\n",
        "    \"\"\"\n",
        "    Converts SMILES string to graph Data object\n",
        "    :input: SMILES string (str)\n",
        "    :return: graph object\n",
        "    \"\"\"\n",
        "\n",
        "    mol = Chem.MolFromSmiles(smiles_string)\n",
        "    #mol = Chem.MolFromSmiles('CN1C=NC2=C1C(=O)N(C(=O)N2C)C')\n",
        "    A = Chem.GetAdjacencyMatrix(mol)\n",
        "    A = np.asmatrix(A)\n",
        "    nnodes=len(A)\n",
        "    nz = np.nonzero(A)\n",
        "    edge_list=[]\n",
        "    src=[]\n",
        "    dst=[]\n",
        "\n",
        "\n",
        "\n",
        "    for i in range(nz[0].shape[0]):\n",
        "      #lista=(nz[0][i],nz[1][i])\n",
        "      #edge_list.append(lista)\n",
        "      src.append(nz[0][i])\n",
        "      dst.append(nz[1][i])\n",
        "\n",
        "    #g = dgl.graph(edge_list[0],edge_list[1])\n",
        "    # add 34 nodes into the graph; nodes are labeled from 0~33\n",
        "    #g.add_nodes(nnodes)\n",
        "    # all 78 edges as a list of tuples\n",
        "    #u, v = th.tensor(src), th.tensor(dst)\n",
        "    u, v = src, dst\n",
        "    g = dgl.graph((u, v))\n",
        "    bg=dgl.to_bidirected(g)\n",
        " \n",
        "    # add edges two lists of nodes: src and dst\n",
        "    #src, dst = tuple(zip(*edge_list))\n",
        "    #g = dgl.graph(src,dst)\n",
        "    #g.add_edges(src, dst)\n",
        "    \n",
        "    return bg\n",
        "\n",
        "#class MolDataset(DGLDataset):\n",
        "#    def __init__(self):\n",
        "#        super().__init__(name='mol_club')\n",
        "\n",
        "#    def process(self):\n",
        "\n",
        "#        self.graph = dgl.graph((edges_src, edges_dst), num_nodes=nodes_data.shape[0])\n",
        "#        self.graph.ndata['feat'] = node_features\n",
        "#        self.graph.ndata['label'] = node_labels\n",
        "#        self.graph.edata['weight'] = edge_features\n",
        "\n",
        "\n",
        "\n",
        "#    def __getitem__(self, i):\n",
        "#        return self.graph\n",
        "\n",
        "#    def __len__(self):\n",
        "#        return 1"
      ],
      "execution_count": 56,
      "outputs": []
    },
    {
      "cell_type": "code",
      "metadata": {
        "id": "TJMZSQByIOoM"
      },
      "source": [
        "###############\n",
        "def feat_vec(smiles_string):\n",
        "    # atoms\n",
        "    mol = Chem.MolFromSmiles(smiles_string)\n",
        "    atom_features_list = []\n",
        "    for atom in mol.GetAtoms():\n",
        "        atom_features_list.append(atom_to_feature_vector(atom))\n",
        "    x = np.array(atom_features_list, dtype = np.int64)\n",
        "    return x\n"
      ],
      "execution_count": 57,
      "outputs": []
    },
    {
      "cell_type": "code",
      "metadata": {
        "id": "yflR4vmRFs6q"
      },
      "source": [
        "import pandas as pd\n",
        "df=pd.read_csv('train.csv')"
      ],
      "execution_count": 58,
      "outputs": []
    },
    {
      "cell_type": "code",
      "metadata": {
        "id": "u5Vw_CpsFy5J"
      },
      "source": [
        "lista_mols=df['SMILES'].to_list()"
      ],
      "execution_count": 59,
      "outputs": []
    },
    {
      "cell_type": "code",
      "metadata": {
        "id": "5y3iVc6Ld-F1"
      },
      "source": [
        "grafo1=smiles2graph(lista_mols[69])"
      ],
      "execution_count": 60,
      "outputs": []
    },
    {
      "cell_type": "code",
      "metadata": {
        "colab": {
          "base_uri": "https://localhost:8080/",
          "height": 35
        },
        "id": "hZTE1pq6ksyq",
        "outputId": "28c3b04a-7074-451e-91c9-e1220ce95597"
      },
      "source": [
        "lista_mols[69]"
      ],
      "execution_count": 61,
      "outputs": [
        {
          "output_type": "execute_result",
          "data": {
            "application/vnd.google.colaboratory.intrinsic+json": {
              "type": "string"
            },
            "text/plain": [
              "'CCC=CC=CCO'"
            ]
          },
          "metadata": {
            "tags": []
          },
          "execution_count": 61
        }
      ]
    },
    {
      "cell_type": "code",
      "metadata": {
        "id": "hhBFB-s8V_kA"
      },
      "source": [
        "grafo1.ndata['feat']=torch.tensor(feat_vec(lista_mols[69])) "
      ],
      "execution_count": 62,
      "outputs": []
    },
    {
      "cell_type": "code",
      "metadata": {
        "colab": {
          "base_uri": "https://localhost:8080/"
        },
        "id": "_t6gE3XnYnh8",
        "outputId": "df113a48-10ab-4770-ddb5-6999655093f2"
      },
      "source": [
        "grafo1.ndata#['label']=torch.tensor(onehot[69])"
      ],
      "execution_count": 63,
      "outputs": [
        {
          "output_type": "execute_result",
          "data": {
            "text/plain": [
              "{'feat': tensor([[5, 0, 4, 5, 3, 0, 2, 0, 0],\n",
              "        [5, 0, 4, 5, 2, 0, 2, 0, 0],\n",
              "        [5, 0, 3, 5, 1, 0, 1, 0, 0],\n",
              "        [5, 0, 3, 5, 1, 0, 1, 0, 0],\n",
              "        [5, 0, 3, 5, 1, 0, 1, 0, 0],\n",
              "        [5, 0, 3, 5, 1, 0, 1, 0, 0],\n",
              "        [5, 0, 4, 5, 2, 0, 2, 0, 0],\n",
              "        [7, 0, 2, 5, 1, 0, 2, 0, 0]])}"
            ]
          },
          "metadata": {
            "tags": []
          },
          "execution_count": 63
        }
      ]
    },
    {
      "cell_type": "code",
      "metadata": {
        "colab": {
          "base_uri": "https://localhost:8080/"
        },
        "id": "PMfEz5yqZDf8",
        "outputId": "69cfbcb9-ff76-4b53-c53b-9dc3f95d5964"
      },
      "source": [
        "torch.tensor(onehot[69])"
      ],
      "execution_count": 64,
      "outputs": [
        {
          "output_type": "execute_result",
          "data": {
            "text/plain": [
              "tensor([0., 0., 0., 1., 0., 0., 0., 0., 0., 0., 0., 0., 0., 0., 0., 0., 0., 0.,\n",
              "        0., 0., 0., 0., 0., 0., 1., 0., 0., 0., 0., 0., 0., 0., 0., 0., 0., 0.,\n",
              "        0., 0., 0., 0., 0., 0., 0., 0., 0., 0., 0., 0., 0., 0., 0., 0., 0., 0.,\n",
              "        0., 0., 0., 0., 0., 0., 0., 0., 0., 0., 0., 0., 0., 0., 0., 0., 0., 0.,\n",
              "        0., 0., 0., 0., 0., 0., 0., 0., 0., 0., 0., 0., 0., 0., 0., 0., 0., 0.,\n",
              "        0., 0., 0., 0., 0., 0., 0., 0., 0., 0., 0., 0., 0., 0., 0., 0., 0., 0.,\n",
              "        0.], dtype=torch.float64)"
            ]
          },
          "metadata": {
            "tags": []
          },
          "execution_count": 64
        }
      ]
    },
    {
      "cell_type": "code",
      "metadata": {
        "id": "6ATvjPkRqtj0"
      },
      "source": [
        "lista_senten=df['SENTENCE'].to_list()\n",
        "olores=[]\n",
        "for olor in lista_senten:\n",
        "  olor=olor.split(\",\")\n",
        "  olores.append(olor)\n",
        "# da formato correcto a las sentencias en forma de lista\n",
        "from pandas.core.common import flatten\n",
        "olores=list(flatten(olores))\n",
        "#crea una sola lista con los olores\n",
        "olores = list(dict.fromkeys(olores))\n",
        "#elimina repeticiones\n",
        "olores.sort()\n",
        "#ordena alfabeticamente\n",
        "inoh=[]\n",
        "for olor in lista_senten:\n",
        "  olor=olor.split(\",\")\n",
        "  indices=[]\n",
        "  for t in olor:\n",
        "    if t in olores:\n",
        "      indices.append(olores.index(t))\n",
        "  inoh.append(indices)\n",
        "\n",
        "onehot=[]\n",
        "for i in inoh:\n",
        "  ohv=np.zeros(len(olores))\n",
        "  ohv[i]=1\n",
        "  onehot.append(ohv)"
      ],
      "execution_count": 65,
      "outputs": []
    },
    {
      "cell_type": "code",
      "metadata": {
        "id": "yXp_NN3fF2jH"
      },
      "source": [
        "j=0\n",
        "ind=[]\n",
        "source=[]\n",
        "dest=[]\n",
        "nodos=[]\n",
        "feats=[]\n",
        "graphs=[]\n",
        "execptions=[]\n",
        "for mol in lista_mols:\n",
        "  \n",
        "  g_mol=smiles2graph(mol)\n",
        "  #print(g_mol)\n",
        "  try:\n",
        "    g_mol.ndata['feat']=torch.tensor(feat_vec(mol)) \n",
        "  #print(x)\n",
        "  except:\n",
        "    execptions.append(j)\n",
        "\n",
        "  #g_mol.ndata['label']=torch.tensor(onehot[j])\n",
        "   \n",
        "  j+=1\n",
        "  graphs.append(g_mol) #agrega grafo de mol\n",
        "  # features\n",
        "  #feats.append(feat_vec(mol))\n",
        "\n",
        "  #nodos.append(len(g_mol.nodes()))\n",
        "  #src,dst=g_mol.edges()\n",
        "  #src=src.tolist()\n",
        "  #dst=dst.tolist()\n",
        "  #for i in range(len(src)):\n",
        "  #  ind.append(j-1)\n",
        "  #  source.append(src[i])\n",
        "  #  dest.append(dst[i])\n"
      ],
      "execution_count": 66,
      "outputs": []
    },
    {
      "cell_type": "code",
      "metadata": {
        "colab": {
          "base_uri": "https://localhost:8080/"
        },
        "id": "J7-02O19mTIg",
        "outputId": "df2b43df-2f8a-4fdf-d7b2-3d08992668fb"
      },
      "source": [
        "execptions"
      ],
      "execution_count": 67,
      "outputs": [
        {
          "output_type": "execute_result",
          "data": {
            "text/plain": [
              "[70,\n",
              " 265,\n",
              " 305,\n",
              " 454,\n",
              " 1542,\n",
              " 1574,\n",
              " 1915,\n",
              " 1995,\n",
              " 2087,\n",
              " 2149,\n",
              " 2389,\n",
              " 2540,\n",
              " 2587,\n",
              " 2899,\n",
              " 3347,\n",
              " 3671,\n",
              " 4008,\n",
              " 4014,\n",
              " 4250]"
            ]
          },
          "metadata": {
            "tags": []
          },
          "execution_count": 67
        }
      ]
    },
    {
      "cell_type": "code",
      "metadata": {
        "id": "INXKrAF1_RTq"
      },
      "source": [
        "for i in execptions:\n",
        "  graphs.pop(i)\n",
        "  labels.pop(i)"
      ],
      "execution_count": 70,
      "outputs": []
    },
    {
      "cell_type": "code",
      "metadata": {
        "id": "Cy8R9DQKay5L"
      },
      "source": [
        "labels=onehot"
      ],
      "execution_count": 69,
      "outputs": []
    },
    {
      "cell_type": "code",
      "metadata": {
        "colab": {
          "base_uri": "https://localhost:8080/"
        },
        "id": "uxRV1SvKj5tj",
        "outputId": "138ede3f-d619-457c-b79a-71f8d0213847"
      },
      "source": [
        "class SyntheticDataset(DGLDataset):\n",
        "    def __init__(self):\n",
        "        super().__init__(name='synthetic')\n",
        "\n",
        "    def process(self):\n",
        "        #edges = pd.read_csv('./graph_edges.csv')\n",
        "        #properties = pd.read_csv('./graph_properties.csv')\n",
        "        self.graphs = graphs\n",
        "        self.labels = torch.LongTensor(labels)\n",
        "\n",
        "        \n",
        "\n",
        "        # Convert the label list to tensor for saving.\n",
        "        #self.labels = torch.LongTensor(self.labels)\n",
        "\n",
        "    def __getitem__(self, i):\n",
        "        return self.graphs[i], self.labels[i]\n",
        "\n",
        "    def __len__(self):\n",
        "        return len(self.graphs)\n",
        "\n",
        "dataset = SyntheticDataset()\n",
        "graph, label = dataset[0]\n",
        "print(graph, label)"
      ],
      "execution_count": 71,
      "outputs": [
        {
          "output_type": "stream",
          "text": [
            "Graph(num_nodes=14, num_edges=28,\n",
            "      ndata_schemes={'feat': Scheme(shape=(9,), dtype=torch.int64)}\n",
            "      edata_schemes={}) tensor([0, 0, 0, 0, 0, 0, 0, 0, 0, 0, 0, 0, 0, 0, 0, 0, 0, 0, 0, 0, 0, 0, 0, 0,\n",
            "        0, 0, 0, 0, 0, 0, 0, 0, 0, 0, 0, 0, 0, 0, 0, 0, 0, 0, 0, 0, 0, 0, 0, 0,\n",
            "        1, 0, 0, 0, 0, 0, 0, 0, 0, 0, 0, 0, 0, 0, 0, 0, 0, 0, 0, 0, 0, 0, 0, 0,\n",
            "        0, 0, 0, 0, 0, 0, 0, 0, 0, 0, 0, 0, 0, 0, 0, 0, 0, 1, 0, 0, 0, 0, 0, 0,\n",
            "        0, 0, 0, 0, 0, 0, 0, 0, 0, 0, 0, 0, 0])\n"
          ],
          "name": "stdout"
        }
      ]
    }
  ]
}