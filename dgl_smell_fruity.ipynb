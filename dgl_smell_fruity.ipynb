{
  "nbformat": 4,
  "nbformat_minor": 0,
  "metadata": {
    "colab": {
      "name": "dgl_smell_fruity.ipynb",
      "provenance": [],
      "collapsed_sections": [],
      "authorship_tag": "ABX9TyOyboKJ8d1P9HRDKVOVQ2Hp",
      "include_colab_link": true
    },
    "kernelspec": {
      "name": "python3",
      "display_name": "Python 3"
    },
    "language_info": {
      "name": "python"
    }
  },
  "cells": [
    {
      "cell_type": "markdown",
      "metadata": {
        "id": "view-in-github",
        "colab_type": "text"
      },
      "source": [
        "<a href=\"https://colab.research.google.com/github/napoles-uach/DGL_Smell/blob/main/dgl_smell_fruity.ipynb\" target=\"_parent\"><img src=\"https://colab.research.google.com/assets/colab-badge.svg\" alt=\"Open In Colab\"/></a>"
      ]
    },
    {
      "cell_type": "code",
      "metadata": {
        "id": "Fh1FE0lhE9hh"
      },
      "source": [
        "pip install dgl"
      ],
      "execution_count": null,
      "outputs": []
    },
    {
      "cell_type": "code",
      "metadata": {
        "id": "y62N92-cFWFw"
      },
      "source": [
        "pip install ogb"
      ],
      "execution_count": null,
      "outputs": []
    },
    {
      "cell_type": "code",
      "metadata": {
        "id": "bm6zJyZrFfHh"
      },
      "source": [
        "pip install rdkit-pypi"
      ],
      "execution_count": null,
      "outputs": []
    },
    {
      "cell_type": "code",
      "metadata": {
        "colab": {
          "base_uri": "https://localhost:8080/"
        },
        "id": "KUnxcKrCxa-k",
        "outputId": "40fb3d90-bb10-4416-90d3-39e870b1ca68"
      },
      "source": [
        "!wget https://raw.githubusercontent.com/napoles-uach/DGL_Smell/main/train.csv"
      ],
      "execution_count": 4,
      "outputs": [
        {
          "output_type": "stream",
          "text": [
            "--2021-08-07 01:27:06--  https://raw.githubusercontent.com/napoles-uach/DGL_Smell/main/train.csv\n",
            "Resolving raw.githubusercontent.com (raw.githubusercontent.com)... 185.199.108.133, 185.199.109.133, 185.199.110.133, ...\n",
            "Connecting to raw.githubusercontent.com (raw.githubusercontent.com)|185.199.108.133|:443... connected.\n",
            "HTTP request sent, awaiting response... 200 OK\n",
            "Length: 197190 (193K) [text/plain]\n",
            "Saving to: ‘train.csv’\n",
            "\n",
            "train.csv           100%[===================>] 192.57K  --.-KB/s    in 0.02s   \n",
            "\n",
            "2021-08-07 01:27:06 (8.03 MB/s) - ‘train.csv’ saved [197190/197190]\n",
            "\n"
          ],
          "name": "stdout"
        }
      ]
    },
    {
      "cell_type": "code",
      "metadata": {
        "id": "yflR4vmRFs6q",
        "colab": {
          "base_uri": "https://localhost:8080/",
          "height": 205
        },
        "outputId": "9ce38688-143e-461c-c7a2-3e87176c9b3b"
      },
      "source": [
        "import pandas as pd\n",
        "df=pd.read_csv('train.csv')\n",
        "df.head()"
      ],
      "execution_count": 5,
      "outputs": [
        {
          "output_type": "execute_result",
          "data": {
            "text/html": [
              "<div>\n",
              "<style scoped>\n",
              "    .dataframe tbody tr th:only-of-type {\n",
              "        vertical-align: middle;\n",
              "    }\n",
              "\n",
              "    .dataframe tbody tr th {\n",
              "        vertical-align: top;\n",
              "    }\n",
              "\n",
              "    .dataframe thead th {\n",
              "        text-align: right;\n",
              "    }\n",
              "</style>\n",
              "<table border=\"1\" class=\"dataframe\">\n",
              "  <thead>\n",
              "    <tr style=\"text-align: right;\">\n",
              "      <th></th>\n",
              "      <th>SMILES</th>\n",
              "      <th>SENTENCE</th>\n",
              "    </tr>\n",
              "  </thead>\n",
              "  <tbody>\n",
              "    <tr>\n",
              "      <th>0</th>\n",
              "      <td>C/C=C/C(=O)C1CCC(C=C1C)(C)C</td>\n",
              "      <td>fruity,rose</td>\n",
              "    </tr>\n",
              "    <tr>\n",
              "      <th>1</th>\n",
              "      <td>COC(=O)OC</td>\n",
              "      <td>fresh,ethereal,fruity</td>\n",
              "    </tr>\n",
              "    <tr>\n",
              "      <th>2</th>\n",
              "      <td>Cc1cc2c([nH]1)cccc2</td>\n",
              "      <td>resinous,animalic</td>\n",
              "    </tr>\n",
              "    <tr>\n",
              "      <th>3</th>\n",
              "      <td>C1CCCCCCCC(=O)CCCCCCC1</td>\n",
              "      <td>powdery,musk,animalic</td>\n",
              "    </tr>\n",
              "    <tr>\n",
              "      <th>4</th>\n",
              "      <td>CC(CC(=O)OC1CC2C(C1(C)CC2)(C)C)C</td>\n",
              "      <td>coniferous,camphor,fruity</td>\n",
              "    </tr>\n",
              "  </tbody>\n",
              "</table>\n",
              "</div>"
            ],
            "text/plain": [
              "                             SMILES                   SENTENCE\n",
              "0       C/C=C/C(=O)C1CCC(C=C1C)(C)C                fruity,rose\n",
              "1                         COC(=O)OC      fresh,ethereal,fruity\n",
              "2               Cc1cc2c([nH]1)cccc2          resinous,animalic\n",
              "3            C1CCCCCCCC(=O)CCCCCCC1      powdery,musk,animalic\n",
              "4  CC(CC(=O)OC1CC2C(C1(C)CC2)(C)C)C  coniferous,camphor,fruity"
            ]
          },
          "metadata": {
            "tags": []
          },
          "execution_count": 5
        }
      ]
    },
    {
      "cell_type": "code",
      "metadata": {
        "id": "r4ksuKfKFh-3",
        "colab": {
          "base_uri": "https://localhost:8080/"
        },
        "outputId": "7b1f7edd-fda8-4cae-e6b3-6336392d95ed"
      },
      "source": [
        "import dgl\n",
        "from dgl.data import DGLDataset\n",
        "import torch\n",
        "import torch as th\n",
        "import os\n",
        "from ogb.utils.features import (allowable_features, atom_to_feature_vector,\n",
        " bond_to_feature_vector, atom_feature_vector_to_dict, bond_feature_vector_to_dict) \n",
        "from rdkit import Chem\n",
        "import numpy as np"
      ],
      "execution_count": 6,
      "outputs": [
        {
          "output_type": "stream",
          "text": [
            "Setting the default backend to \"pytorch\". You can change it in the ~/.dgl/config.json file or export the DGLBACKEND environment variable.  Valid options are: pytorch, mxnet, tensorflow (all lowercase)\n"
          ],
          "name": "stdout"
        },
        {
          "output_type": "stream",
          "text": [
            "DGL backend not selected or invalid.  Assuming PyTorch for now.\n",
            "Using backend: pytorch\n"
          ],
          "name": "stderr"
        }
      ]
    },
    {
      "cell_type": "code",
      "metadata": {
        "id": "hljA-pwWFn5V"
      },
      "source": [
        "def smiles2graph(smiles_string):\n",
        "    \"\"\"\n",
        "    Converts SMILES string to graph Data object\n",
        "    :input: SMILES string (str)\n",
        "    :return: graph object\n",
        "    \"\"\"\n",
        "\n",
        "    mol = Chem.MolFromSmiles(smiles_string)\n",
        "\n",
        "    A = Chem.GetAdjacencyMatrix(mol)\n",
        "    A = np.asmatrix(A)\n",
        "    nnodes=len(A)\n",
        "    nz = np.nonzero(A)\n",
        "    edge_list=[]\n",
        "    src=[]\n",
        "    dst=[]\n",
        "\n",
        "    for i in range(nz[0].shape[0]):\n",
        "      src.append(nz[0][i])\n",
        "      dst.append(nz[1][i])\n",
        "\n",
        "    u, v = src, dst\n",
        "    g = dgl.graph((u, v))\n",
        "    bg=dgl.to_bidirected(g)\n",
        "\n",
        "    return bg"
      ],
      "execution_count": 7,
      "outputs": []
    },
    {
      "cell_type": "code",
      "metadata": {
        "id": "TJMZSQByIOoM"
      },
      "source": [
        "def feat_vec(smiles_string):\n",
        "    \"\"\"\n",
        "    Returns atom features for a molecule given a smiles string\n",
        "    \"\"\"\n",
        "    # atoms\n",
        "    mol = Chem.MolFromSmiles(smiles_string)\n",
        "    atom_features_list = []\n",
        "    for atom in mol.GetAtoms():\n",
        "        atom_features_list.append(atom_to_feature_vector(atom))\n",
        "    x = np.array(atom_features_list, dtype = np.int64)\n",
        "    return x"
      ],
      "execution_count": 8,
      "outputs": []
    },
    {
      "cell_type": "code",
      "metadata": {
        "id": "eMSih8gvHJZk"
      },
      "source": [
        "lista_senten=df['SENTENCE'].to_list()\n",
        "olores=[]\n",
        "labels=[]\n",
        "i=0\n",
        "for olor in lista_senten:\n",
        "  olor=olor.split(\",\")\n",
        "  if 'fruity' in olor:\n",
        "    labels.append(1)\n",
        "    olores.append(olor)\n",
        "  else:\n",
        "    labels.append(0)\n",
        "  i+=1\n",
        "  #olores.append(olor)\n",
        "# da formato correcto a las sentencias en forma de lista\n",
        "#olores"
      ],
      "execution_count": 9,
      "outputs": []
    },
    {
      "cell_type": "code",
      "metadata": {
        "id": "yXp_NN3fF2jH"
      },
      "source": [
        "# This block makes a list of graphs\n",
        "lista_mols=df['SMILES'].to_list()\n",
        "\n",
        "j=0\n",
        "graphs=[]\n",
        "execptions=[]\n",
        "for mol in lista_mols:\n",
        "  \n",
        "  g_mol=smiles2graph(mol)\n",
        "\n",
        "  try:\n",
        "    g_mol.ndata['feat']=torch.tensor(feat_vec(mol)) \n",
        "  except:\n",
        "    execptions.append(j)\n",
        "   \n",
        "\n",
        "  graphs.append(g_mol) #agrega grafo de mol\n",
        "  j+=1"
      ],
      "execution_count": 10,
      "outputs": []
    },
    {
      "cell_type": "code",
      "metadata": {
        "id": "INXKrAF1_RTq"
      },
      "source": [
        "# Some smiles are not well processed, so they are droped\n",
        "ii=0\n",
        "for i in execptions:\n",
        "  graphs.pop(i-ii)\n",
        "  labels.pop(i-ii)\n",
        "  ii+=1\n",
        "\n"
      ],
      "execution_count": 11,
      "outputs": []
    },
    {
      "cell_type": "code",
      "metadata": {
        "id": "msY6-90FDR48"
      },
      "source": [
        "i=0\n",
        "for grap in graphs:\n",
        "\n",
        "  try:\n",
        "    grap.ndata['feat']\n",
        "  except:\n",
        "    print(i)\n",
        "  i+=1\n",
        "  #if grap.ndata['feat'] is None:\n",
        "  #  print(\"ok\")"
      ],
      "execution_count": 12,
      "outputs": []
    },
    {
      "cell_type": "code",
      "metadata": {
        "id": "Pq10lp6dQsKM"
      },
      "source": [
        "import dgl\n",
        "import torch\n",
        "import torch.nn as nn\n",
        "import torch.nn.functional as F"
      ],
      "execution_count": 14,
      "outputs": []
    },
    {
      "cell_type": "code",
      "metadata": {
        "id": "iZMKZdtyJQJ7"
      },
      "source": [
        "labels=F.one_hot(torch.LongTensor(labels), num_classes=2)"
      ],
      "execution_count": 15,
      "outputs": []
    },
    {
      "cell_type": "code",
      "metadata": {
        "id": "uxRV1SvKj5tj"
      },
      "source": [
        "class SyntheticDataset(DGLDataset):\n",
        "    def __init__(self):\n",
        "        super().__init__(name='synthetic')\n",
        "\n",
        "    def process(self):\n",
        "        #edges = pd.read_csv('./graph_edges.csv')\n",
        "        #properties = pd.read_csv('./graph_properties.csv')\n",
        "        self.graphs = graphs\n",
        "        self.labels = labels#torch.LongTensor(labels)\n",
        "\n",
        "    def __getitem__(self, i):\n",
        "        return self.graphs[i], self.labels[i]\n",
        "\n",
        "    def __len__(self):\n",
        "        return len(self.graphs)\n",
        "\n",
        "dataset = SyntheticDataset()\n",
        "#graph, label = dataset[0]\n",
        "#print(graph, label)"
      ],
      "execution_count": 17,
      "outputs": []
    },
    {
      "cell_type": "code",
      "metadata": {
        "id": "8S_ob4ncMJ3W"
      },
      "source": [
        "from dgl.dataloading import GraphDataLoader\n",
        "from torch.utils.data.sampler import SubsetRandomSampler\n",
        "\n",
        "num_examples = len(dataset)\n",
        "num_train = int(num_examples * 0.8)\n",
        "\n",
        "train_sampler = SubsetRandomSampler(torch.arange(num_train))\n",
        "test_sampler = SubsetRandomSampler(torch.arange(num_train, num_examples))\n",
        "\n",
        "train_dataloader = GraphDataLoader(\n",
        "    dataset, sampler=train_sampler, batch_size=5, drop_last=False)\n",
        "test_dataloader = GraphDataLoader(\n",
        "    dataset, sampler=test_sampler, batch_size=5, drop_last=False)"
      ],
      "execution_count": 18,
      "outputs": []
    },
    {
      "cell_type": "code",
      "metadata": {
        "id": "au_ltWk4R28I"
      },
      "source": [
        "import dgl\n",
        "import torch\n",
        "import torch.nn as nn\n",
        "import torch.nn.functional as F"
      ],
      "execution_count": 19,
      "outputs": []
    },
    {
      "cell_type": "code",
      "metadata": {
        "id": "ny9suxMfLZLp"
      },
      "source": [
        "from dgl.nn import GraphConv\n",
        "\n",
        "class GCN(nn.Module):\n",
        "    def __init__(self, in_feats, h_feats, num_classes):\n",
        "        super(GCN, self).__init__()\n",
        "        self.conv1 = GraphConv(9, 16)\n",
        "        self.conv2 = GraphConv(16, 2)\n",
        "\n",
        "    def forward(self, g, in_feat):\n",
        "        h = self.conv1(g, in_feat)\n",
        "        h = F.relu(h)\n",
        "        h = self.conv2(g, h)\n",
        "        g.ndata['h'] = h\n",
        "        return dgl.mean_nodes(g, 'h')"
      ],
      "execution_count": 20,
      "outputs": []
    },
    {
      "cell_type": "code",
      "metadata": {
        "colab": {
          "base_uri": "https://localhost:8080/",
          "height": 373
        },
        "id": "ZOIHOVeXLohf",
        "outputId": "3634d7c5-ba81-4859-b434-39da55ba8f09"
      },
      "source": [
        "# Create the model with given dimensions\n",
        "model = GCN(9, 16, 2)\n",
        "optimizer = torch.optim.Adam(model.parameters(), lr=0.01)\n",
        "\n",
        "for epoch in range(20):\n",
        "    for batched_graph, labels in train_dataloader:\n",
        "        pred = model(batched_graph, batched_graph.ndata['feat'].float())\n",
        "        #print(pred,labels)\n",
        "        loss = F.cross_entropy(pred, labels)\n",
        "#        optimizer.zero_grad()\n",
        "#        loss.backward()\n",
        "#        optimizer.step()\n",
        "#\n",
        "#num_correct = 0\n",
        "#num_tests = 0\n",
        "#for batched_graph, labels in test_dataloader:\n",
        "#    pred = model(batched_graph, batched_graph.ndata['attr'].float())\n",
        "#    num_correct += (pred.argmax(1) == labels).sum().item()\n",
        "#    num_tests += len(labels)\n",
        "#\n",
        "#print('Test accuracy:', num_correct / num_tests)"
      ],
      "execution_count": 21,
      "outputs": [
        {
          "output_type": "error",
          "ename": "RuntimeError",
          "evalue": "ignored",
          "traceback": [
            "\u001b[0;31m---------------------------------------------------------------------------\u001b[0m",
            "\u001b[0;31mRuntimeError\u001b[0m                              Traceback (most recent call last)",
            "\u001b[0;32m<ipython-input-21-0e9a142fe997>\u001b[0m in \u001b[0;36m<module>\u001b[0;34m()\u001b[0m\n\u001b[1;32m      7\u001b[0m         \u001b[0mpred\u001b[0m \u001b[0;34m=\u001b[0m \u001b[0mmodel\u001b[0m\u001b[0;34m(\u001b[0m\u001b[0mbatched_graph\u001b[0m\u001b[0;34m,\u001b[0m \u001b[0mbatched_graph\u001b[0m\u001b[0;34m.\u001b[0m\u001b[0mndata\u001b[0m\u001b[0;34m[\u001b[0m\u001b[0;34m'feat'\u001b[0m\u001b[0;34m]\u001b[0m\u001b[0;34m.\u001b[0m\u001b[0mfloat\u001b[0m\u001b[0;34m(\u001b[0m\u001b[0;34m)\u001b[0m\u001b[0;34m)\u001b[0m\u001b[0;34m\u001b[0m\u001b[0;34m\u001b[0m\u001b[0m\n\u001b[1;32m      8\u001b[0m         \u001b[0;31m#print(pred,labels)\u001b[0m\u001b[0;34m\u001b[0m\u001b[0;34m\u001b[0m\u001b[0;34m\u001b[0m\u001b[0m\n\u001b[0;32m----> 9\u001b[0;31m         \u001b[0mloss\u001b[0m \u001b[0;34m=\u001b[0m \u001b[0mF\u001b[0m\u001b[0;34m.\u001b[0m\u001b[0mcross_entropy\u001b[0m\u001b[0;34m(\u001b[0m\u001b[0mpred\u001b[0m\u001b[0;34m,\u001b[0m \u001b[0mlabels\u001b[0m\u001b[0;34m)\u001b[0m\u001b[0;34m\u001b[0m\u001b[0;34m\u001b[0m\u001b[0m\n\u001b[0m\u001b[1;32m     10\u001b[0m \u001b[0;31m#        optimizer.zero_grad()\u001b[0m\u001b[0;34m\u001b[0m\u001b[0;34m\u001b[0m\u001b[0;34m\u001b[0m\u001b[0m\n\u001b[1;32m     11\u001b[0m \u001b[0;31m#        loss.backward()\u001b[0m\u001b[0;34m\u001b[0m\u001b[0;34m\u001b[0m\u001b[0;34m\u001b[0m\u001b[0m\n",
            "\u001b[0;32m/usr/local/lib/python3.7/dist-packages/torch/nn/functional.py\u001b[0m in \u001b[0;36mcross_entropy\u001b[0;34m(input, target, weight, size_average, ignore_index, reduce, reduction)\u001b[0m\n\u001b[1;32m   2822\u001b[0m     \u001b[0;32mif\u001b[0m \u001b[0msize_average\u001b[0m \u001b[0;32mis\u001b[0m \u001b[0;32mnot\u001b[0m \u001b[0;32mNone\u001b[0m \u001b[0;32mor\u001b[0m \u001b[0mreduce\u001b[0m \u001b[0;32mis\u001b[0m \u001b[0;32mnot\u001b[0m \u001b[0;32mNone\u001b[0m\u001b[0;34m:\u001b[0m\u001b[0;34m\u001b[0m\u001b[0;34m\u001b[0m\u001b[0m\n\u001b[1;32m   2823\u001b[0m         \u001b[0mreduction\u001b[0m \u001b[0;34m=\u001b[0m \u001b[0m_Reduction\u001b[0m\u001b[0;34m.\u001b[0m\u001b[0mlegacy_get_string\u001b[0m\u001b[0;34m(\u001b[0m\u001b[0msize_average\u001b[0m\u001b[0;34m,\u001b[0m \u001b[0mreduce\u001b[0m\u001b[0;34m)\u001b[0m\u001b[0;34m\u001b[0m\u001b[0;34m\u001b[0m\u001b[0m\n\u001b[0;32m-> 2824\u001b[0;31m     \u001b[0;32mreturn\u001b[0m \u001b[0mtorch\u001b[0m\u001b[0;34m.\u001b[0m\u001b[0m_C\u001b[0m\u001b[0;34m.\u001b[0m\u001b[0m_nn\u001b[0m\u001b[0;34m.\u001b[0m\u001b[0mcross_entropy_loss\u001b[0m\u001b[0;34m(\u001b[0m\u001b[0minput\u001b[0m\u001b[0;34m,\u001b[0m \u001b[0mtarget\u001b[0m\u001b[0;34m,\u001b[0m \u001b[0mweight\u001b[0m\u001b[0;34m,\u001b[0m \u001b[0m_Reduction\u001b[0m\u001b[0;34m.\u001b[0m\u001b[0mget_enum\u001b[0m\u001b[0;34m(\u001b[0m\u001b[0mreduction\u001b[0m\u001b[0;34m)\u001b[0m\u001b[0;34m,\u001b[0m \u001b[0mignore_index\u001b[0m\u001b[0;34m)\u001b[0m\u001b[0;34m\u001b[0m\u001b[0;34m\u001b[0m\u001b[0m\n\u001b[0m\u001b[1;32m   2825\u001b[0m \u001b[0;34m\u001b[0m\u001b[0m\n\u001b[1;32m   2826\u001b[0m \u001b[0;34m\u001b[0m\u001b[0m\n",
            "\u001b[0;31mRuntimeError\u001b[0m: 1D target tensor expected, multi-target not supported"
          ]
        }
      ]
    },
    {
      "cell_type": "code",
      "metadata": {
        "id": "uYMvCZmFM8bM"
      },
      "source": [
        ""
      ],
      "execution_count": null,
      "outputs": []
    }
  ]
}